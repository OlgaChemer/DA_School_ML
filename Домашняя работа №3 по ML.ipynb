{
 "cells": [
  {
   "cell_type": "markdown",
   "id": "d2657b95",
   "metadata": {},
   "source": [
    "## Домашняя работа №3 по ML\n",
    "\n",
    "1.Добавить в  demo_test.py  возможность выбора (от 10 до 35% с шагом 5) размера test выборки с помощью streamlit.selectbox\n",
    "\n",
    "2. Отобразить результат предсказания - pd. DataFrame(y_test, pred)"
   ]
  },
  {
   "cell_type": "code",
   "execution_count": null,
   "id": "60eeabe6",
   "metadata": {},
   "outputs": [],
   "source": [
    "\n",
    "import streamlit as st\n",
    "import pandas as pd\n",
    "from xgboost import XGBRegressor\n",
    "from sklearn.model_selection import train_test_split\n",
    "from sklearn.metrics import mean_absolute_error\n",
    "import numpy as np\n",
    "# (от 10 до 35% с шагом 5) размера test выборки с помощью streamlit.selectbox\n",
    "\n",
    "df = pd.read_csv('/Users/olgakamskaa/Desktop/housing.csv')\n",
    "\n",
    "if st.button('Отобразить первые пять строк'):\n",
    "    st.write(df.head())\n",
    "\n",
    "\n",
    "size = st.selectbox('Выбрать размер test выборки', np.arange(10, 35, 5))\n",
    "# st.write('Выбран размер ', size)\n",
    "\n",
    "if st.button('Обучить модель'):\n",
    "    X_train, X_test, y_train, y_test = train_test_split(df.drop('MEDV', axis=1),\n",
    "                                                        df['MEDV'],\n",
    "                                                        test_size=size,\n",
    "                                                        random_state=2100)\n",
    "\n",
    "\n",
    "    st.write('Разделили данные и передали в обучение')\n",
    "    regr_model = XGBRegressor()\n",
    "    regr_model.fit(X_train, y_train)\n",
    "    pred = regr_model.predict(X_test)\n",
    "    dk = pd.DataFrame(y_test)\n",
    "    dk['pred'] = pred\n",
    "    st.write('Результаты предсказания: ', dk)\n",
    "    st.write('Обучили модель, MAE = ' + str(mean_absolute_error(y_test, pred)))"
   ]
  },
  {
   "cell_type": "code",
   "execution_count": null,
   "id": "194e2127",
   "metadata": {},
   "outputs": [],
   "source": []
  }
 ],
 "metadata": {
  "kernelspec": {
   "display_name": "Python 3 (ipykernel)",
   "language": "python",
   "name": "python3"
  },
  "language_info": {
   "codemirror_mode": {
    "name": "ipython",
    "version": 3
   },
   "file_extension": ".py",
   "mimetype": "text/x-python",
   "name": "python",
   "nbconvert_exporter": "python",
   "pygments_lexer": "ipython3",
   "version": "3.8.12"
  }
 },
 "nbformat": 4,
 "nbformat_minor": 5
}
